{
 "cells": [
  {
   "cell_type": "code",
   "execution_count": 1,
   "id": "b25515dd-e331-4d30-bd4a-6115d05fdeae",
   "metadata": {},
   "outputs": [],
   "source": [
    "import numpy as np\n",
    "import pandas as pd"
   ]
  },
  {
   "cell_type": "code",
   "execution_count": 9,
   "id": "cbd0ae26-7000-4ba9-adbe-39a497b968a6",
   "metadata": {},
   "outputs": [],
   "source": [
    "dict1 = {\n",
    "    \"Nome\":         ['Anderson', 'Beatriz', 'Bruno', 'Cristiano', 'Daniel', 'Douglas', 'Elena', 'Fabrício', 'Gabriel', 'Janaína', 'Luíz', 'Marcos', 'Nadia', 'Oswaldo', 'Patrícia', 'Ricardo'],\n",
    "    \"Idade\":        [24, 36, 45, 56, 29, 20, 38, 47, 23, 56, 32, 22, 36, 68, 22, 38],\n",
    "    \"Cidade\":       ['Santos', 'Atibaia', 'Guarulhos', 'Atibaia', 'Santos', 'Guarulhos', 'Guarulhos', 'Atibaia', 'Guarulhos', 'Guarulhos', 'Atibaia', 'Guarulhos', 'Santos', 'Guarulhos', 'Guarulhos', 'Santos'],\n",
    "    \"Registro\":     [32123, 45828, 34985, 13457, 98439, 99348, 45019, 24894, 32948, 13480, 22884, 56821, 65938, 12956, 75439, 45392],\n",
    "    \"Departamento\": ['RH','PD', 'RH', 'ADM', 'ADM', 'RH', 'ADM', 'PD', 'PD', 'ADM', 'PD', 'ADM', 'PD', 'RH', 'ADM', 'PD'],\n",
    "    \"Formação\":     ['Graduação', 'Mestrado', 'Graduação', 'Técnico', 'Graduação', 'Técnico', 'Graduação', 'Graduação', 'Técnico', 'Graduação', 'Graduação', 'Graduação', 'Graduação', 'Mestrado', 'Graduação', 'Mestrado'], \n",
    "}"
   ]
  },
  {
   "cell_type": "code",
   "execution_count": 6,
   "id": "58ee2a1e-2996-4a13-91ae-1a83f2852905",
   "metadata": {},
   "outputs": [
    {
     "data": {
      "text/plain": [
       "Nome            [Anderson, Beatriz, Bruno, Cristiano, Daniel, ...\n",
       "Idade           [24, 36, 45, 56, 29, 20, 38, 47, 23, 56, 32, 2...\n",
       "Cidade          [Santos, Atibaia, Guarulhos, Atibaia, Santos, ...\n",
       "Registro        [32123, 45828, 34985, 13457, 98439, 99348, 450...\n",
       "Departamento    [RH, PD, RH, ADM, ADM, RH, ADM, PD, PD, ADM, P...\n",
       "Formação        [Graduação, Mestrado, Graduação, Técnico, Grad...\n",
       "dtype: object"
      ]
     },
     "execution_count": 6,
     "metadata": {},
     "output_type": "execute_result"
    }
   ],
   "source": [
    "serie = pd.Series(dict1)\n",
    "serie"
   ]
  },
  {
   "cell_type": "code",
   "execution_count": 7,
   "id": "e0756ecc-f330-4d1b-8a05-1543025fbad5",
   "metadata": {},
   "outputs": [],
   "source": [
    "dafra = pd.DataFrame(dict1)"
   ]
  },
  {
   "cell_type": "code",
   "execution_count": 8,
   "id": "25841919-9bdb-496c-9384-b0845cf8f34f",
   "metadata": {},
   "outputs": [
    {
     "data": {
      "text/html": [
       "<div>\n",
       "<style scoped>\n",
       "    .dataframe tbody tr th:only-of-type {\n",
       "        vertical-align: middle;\n",
       "    }\n",
       "\n",
       "    .dataframe tbody tr th {\n",
       "        vertical-align: top;\n",
       "    }\n",
       "\n",
       "    .dataframe thead th {\n",
       "        text-align: right;\n",
       "    }\n",
       "</style>\n",
       "<table border=\"1\" class=\"dataframe\">\n",
       "  <thead>\n",
       "    <tr style=\"text-align: right;\">\n",
       "      <th></th>\n",
       "      <th>Nome</th>\n",
       "      <th>Idade</th>\n",
       "      <th>Cidade</th>\n",
       "      <th>Registro</th>\n",
       "      <th>Departamento</th>\n",
       "      <th>Formação</th>\n",
       "    </tr>\n",
       "  </thead>\n",
       "  <tbody>\n",
       "    <tr>\n",
       "      <th>0</th>\n",
       "      <td>Anderson</td>\n",
       "      <td>24</td>\n",
       "      <td>Santos</td>\n",
       "      <td>32123</td>\n",
       "      <td>RH</td>\n",
       "      <td>Graduação</td>\n",
       "    </tr>\n",
       "    <tr>\n",
       "      <th>1</th>\n",
       "      <td>Beatriz</td>\n",
       "      <td>36</td>\n",
       "      <td>Atibaia</td>\n",
       "      <td>45828</td>\n",
       "      <td>PD</td>\n",
       "      <td>Mestrado</td>\n",
       "    </tr>\n",
       "    <tr>\n",
       "      <th>2</th>\n",
       "      <td>Bruno</td>\n",
       "      <td>45</td>\n",
       "      <td>Guarulhos</td>\n",
       "      <td>34985</td>\n",
       "      <td>RH</td>\n",
       "      <td>Graduação</td>\n",
       "    </tr>\n",
       "    <tr>\n",
       "      <th>3</th>\n",
       "      <td>Cristiano</td>\n",
       "      <td>56</td>\n",
       "      <td>Atibaia</td>\n",
       "      <td>13457</td>\n",
       "      <td>ADM</td>\n",
       "      <td>Técnico</td>\n",
       "    </tr>\n",
       "    <tr>\n",
       "      <th>4</th>\n",
       "      <td>Daniel</td>\n",
       "      <td>29</td>\n",
       "      <td>Santos</td>\n",
       "      <td>98439</td>\n",
       "      <td>ADM</td>\n",
       "      <td>Graduação</td>\n",
       "    </tr>\n",
       "    <tr>\n",
       "      <th>5</th>\n",
       "      <td>Douglas</td>\n",
       "      <td>20</td>\n",
       "      <td>Guarulhos</td>\n",
       "      <td>99348</td>\n",
       "      <td>RH</td>\n",
       "      <td>Técnico</td>\n",
       "    </tr>\n",
       "    <tr>\n",
       "      <th>6</th>\n",
       "      <td>Elena</td>\n",
       "      <td>38</td>\n",
       "      <td>Guarulhos</td>\n",
       "      <td>45019</td>\n",
       "      <td>ADM</td>\n",
       "      <td>Graduação</td>\n",
       "    </tr>\n",
       "    <tr>\n",
       "      <th>7</th>\n",
       "      <td>Fabrício</td>\n",
       "      <td>47</td>\n",
       "      <td>Atibaia</td>\n",
       "      <td>24894</td>\n",
       "      <td>PD</td>\n",
       "      <td>Graduação</td>\n",
       "    </tr>\n",
       "    <tr>\n",
       "      <th>8</th>\n",
       "      <td>Gabriel</td>\n",
       "      <td>23</td>\n",
       "      <td>Guarulhos</td>\n",
       "      <td>32948</td>\n",
       "      <td>PD</td>\n",
       "      <td>Técnico</td>\n",
       "    </tr>\n",
       "    <tr>\n",
       "      <th>9</th>\n",
       "      <td>Janaína</td>\n",
       "      <td>56</td>\n",
       "      <td>Guarulhos</td>\n",
       "      <td>13480</td>\n",
       "      <td>ADM</td>\n",
       "      <td>Graduação</td>\n",
       "    </tr>\n",
       "    <tr>\n",
       "      <th>10</th>\n",
       "      <td>Luíz</td>\n",
       "      <td>32</td>\n",
       "      <td>Atibaia</td>\n",
       "      <td>22884</td>\n",
       "      <td>PD</td>\n",
       "      <td>Graduação</td>\n",
       "    </tr>\n",
       "    <tr>\n",
       "      <th>11</th>\n",
       "      <td>Marcos</td>\n",
       "      <td>22</td>\n",
       "      <td>Guarulhos</td>\n",
       "      <td>56821</td>\n",
       "      <td>ADM</td>\n",
       "      <td>Graduação</td>\n",
       "    </tr>\n",
       "    <tr>\n",
       "      <th>12</th>\n",
       "      <td>Nadia</td>\n",
       "      <td>36</td>\n",
       "      <td>Santos</td>\n",
       "      <td>65938</td>\n",
       "      <td>PD</td>\n",
       "      <td>Graduação</td>\n",
       "    </tr>\n",
       "    <tr>\n",
       "      <th>13</th>\n",
       "      <td>Oswaldo</td>\n",
       "      <td>68</td>\n",
       "      <td>Guarulhos</td>\n",
       "      <td>12956</td>\n",
       "      <td>RH</td>\n",
       "      <td>Mestrado</td>\n",
       "    </tr>\n",
       "    <tr>\n",
       "      <th>14</th>\n",
       "      <td>Patrícia</td>\n",
       "      <td>22</td>\n",
       "      <td>Guarulhos</td>\n",
       "      <td>75439</td>\n",
       "      <td>ADM</td>\n",
       "      <td>Graduação</td>\n",
       "    </tr>\n",
       "    <tr>\n",
       "      <th>15</th>\n",
       "      <td>Ricardo</td>\n",
       "      <td>38</td>\n",
       "      <td>Santos</td>\n",
       "      <td>45392</td>\n",
       "      <td>PD</td>\n",
       "      <td>Mestrado</td>\n",
       "    </tr>\n",
       "  </tbody>\n",
       "</table>\n",
       "</div>"
      ],
      "text/plain": [
       "         Nome  Idade     Cidade  Registro Departamento   Formação\n",
       "0    Anderson     24     Santos     32123           RH  Graduação\n",
       "1     Beatriz     36    Atibaia     45828           PD   Mestrado\n",
       "2       Bruno     45  Guarulhos     34985           RH  Graduação\n",
       "3   Cristiano     56    Atibaia     13457          ADM    Técnico\n",
       "4      Daniel     29     Santos     98439          ADM  Graduação\n",
       "5     Douglas     20  Guarulhos     99348           RH    Técnico\n",
       "6       Elena     38  Guarulhos     45019          ADM  Graduação\n",
       "7    Fabrício     47    Atibaia     24894           PD  Graduação\n",
       "8     Gabriel     23  Guarulhos     32948           PD    Técnico\n",
       "9     Janaína     56  Guarulhos     13480          ADM  Graduação\n",
       "10       Luíz     32    Atibaia     22884           PD  Graduação\n",
       "11     Marcos     22  Guarulhos     56821          ADM  Graduação\n",
       "12      Nadia     36     Santos     65938           PD  Graduação\n",
       "13    Oswaldo     68  Guarulhos     12956           RH   Mestrado\n",
       "14   Patrícia     22  Guarulhos     75439          ADM  Graduação\n",
       "15    Ricardo     38     Santos     45392           PD   Mestrado"
      ]
     },
     "execution_count": 8,
     "metadata": {},
     "output_type": "execute_result"
    }
   ],
   "source": [
    "dafra"
   ]
  },
  {
   "cell_type": "code",
   "execution_count": 16,
   "id": "9fe07fc3-b278-4d45-8a70-cff7d2c2fa05",
   "metadata": {},
   "outputs": [],
   "source": [
    "groupByCidade = dafra.groupby('Cidade')"
   ]
  },
  {
   "cell_type": "code",
   "execution_count": 17,
   "id": "05470d87-e972-44fb-91c2-171abc7ae7be",
   "metadata": {},
   "outputs": [],
   "source": [
    "groupByFormacao = dafra.groupby('Formação')"
   ]
  },
  {
   "cell_type": "code",
   "execution_count": 18,
   "id": "b7fcf940-1688-4a0b-a388-4bb976ee0a87",
   "metadata": {},
   "outputs": [],
   "source": [
    "groupByDepto = dafra.groupby('Departamento')"
   ]
  },
  {
   "cell_type": "code",
   "execution_count": 19,
   "id": "5a99bf1c-2980-4b76-afed-04b1a81ffcf5",
   "metadata": {},
   "outputs": [],
   "source": [
    "groupByCidadeEDepto = dafra.groupby(['Cidade', 'Departamento'])"
   ]
  },
  {
   "cell_type": "code",
   "execution_count": 20,
   "id": "b1bcd921-cb83-419a-a5bd-adb00bb856e8",
   "metadata": {},
   "outputs": [],
   "source": [
    "groupByDeptoEFormacao = dafra.groupby(['Departamento', 'Formação'])"
   ]
  },
  {
   "cell_type": "code",
   "execution_count": 21,
   "id": "8a9e5ee7-03d9-44f6-9b71-60f00b4f55bb",
   "metadata": {
    "collapsed": true,
    "jupyter": {
     "outputs_hidden": true
    }
   },
   "outputs": [
    {
     "data": {
      "text/plain": [
       "[('Atibaia',\n",
       "           Nome  Idade   Cidade  Registro Departamento   Formação\n",
       "  1     Beatriz     36  Atibaia     45828           PD   Mestrado\n",
       "  3   Cristiano     56  Atibaia     13457          ADM    Técnico\n",
       "  7    Fabrício     47  Atibaia     24894           PD  Graduação\n",
       "  10       Luíz     32  Atibaia     22884           PD  Graduação),\n",
       " ('Guarulhos',\n",
       "          Nome  Idade     Cidade  Registro Departamento   Formação\n",
       "  2      Bruno     45  Guarulhos     34985           RH  Graduação\n",
       "  5    Douglas     20  Guarulhos     99348           RH    Técnico\n",
       "  6      Elena     38  Guarulhos     45019          ADM  Graduação\n",
       "  8    Gabriel     23  Guarulhos     32948           PD    Técnico\n",
       "  9    Janaína     56  Guarulhos     13480          ADM  Graduação\n",
       "  11    Marcos     22  Guarulhos     56821          ADM  Graduação\n",
       "  13   Oswaldo     68  Guarulhos     12956           RH   Mestrado\n",
       "  14  Patrícia     22  Guarulhos     75439          ADM  Graduação),\n",
       " ('Santos',\n",
       "          Nome  Idade  Cidade  Registro Departamento   Formação\n",
       "  0   Anderson     24  Santos     32123           RH  Graduação\n",
       "  4     Daniel     29  Santos     98439          ADM  Graduação\n",
       "  12     Nadia     36  Santos     65938           PD  Graduação\n",
       "  15   Ricardo     38  Santos     45392           PD   Mestrado)]"
      ]
     },
     "execution_count": 21,
     "metadata": {},
     "output_type": "execute_result"
    }
   ],
   "source": [
    "list(groupByCidade)"
   ]
  },
  {
   "cell_type": "code",
   "execution_count": 22,
   "id": "88b47432-f2ce-4173-a275-987dc356d112",
   "metadata": {
    "collapsed": true,
    "jupyter": {
     "outputs_hidden": true
    }
   },
   "outputs": [
    {
     "data": {
      "text/plain": [
       "[('Graduação',\n",
       "          Nome  Idade     Cidade  Registro Departamento   Formação\n",
       "  0   Anderson     24     Santos     32123           RH  Graduação\n",
       "  2      Bruno     45  Guarulhos     34985           RH  Graduação\n",
       "  4     Daniel     29     Santos     98439          ADM  Graduação\n",
       "  6      Elena     38  Guarulhos     45019          ADM  Graduação\n",
       "  7   Fabrício     47    Atibaia     24894           PD  Graduação\n",
       "  9    Janaína     56  Guarulhos     13480          ADM  Graduação\n",
       "  10      Luíz     32    Atibaia     22884           PD  Graduação\n",
       "  11    Marcos     22  Guarulhos     56821          ADM  Graduação\n",
       "  12     Nadia     36     Santos     65938           PD  Graduação\n",
       "  14  Patrícia     22  Guarulhos     75439          ADM  Graduação),\n",
       " ('Mestrado',\n",
       "         Nome  Idade     Cidade  Registro Departamento  Formação\n",
       "  1   Beatriz     36    Atibaia     45828           PD  Mestrado\n",
       "  13  Oswaldo     68  Guarulhos     12956           RH  Mestrado\n",
       "  15  Ricardo     38     Santos     45392           PD  Mestrado),\n",
       " ('Técnico',\n",
       "          Nome  Idade     Cidade  Registro Departamento Formação\n",
       "  3  Cristiano     56    Atibaia     13457          ADM  Técnico\n",
       "  5    Douglas     20  Guarulhos     99348           RH  Técnico\n",
       "  8    Gabriel     23  Guarulhos     32948           PD  Técnico)]"
      ]
     },
     "execution_count": 22,
     "metadata": {},
     "output_type": "execute_result"
    }
   ],
   "source": [
    "list(groupByFormacao)"
   ]
  },
  {
   "cell_type": "code",
   "execution_count": 23,
   "id": "b7e17de0-7ece-48bb-9116-45857099749f",
   "metadata": {
    "collapsed": true,
    "jupyter": {
     "outputs_hidden": true
    }
   },
   "outputs": [
    {
     "data": {
      "text/plain": [
       "[('ADM',\n",
       "           Nome  Idade     Cidade  Registro Departamento   Formação\n",
       "  3   Cristiano     56    Atibaia     13457          ADM    Técnico\n",
       "  4      Daniel     29     Santos     98439          ADM  Graduação\n",
       "  6       Elena     38  Guarulhos     45019          ADM  Graduação\n",
       "  9     Janaína     56  Guarulhos     13480          ADM  Graduação\n",
       "  11     Marcos     22  Guarulhos     56821          ADM  Graduação\n",
       "  14   Patrícia     22  Guarulhos     75439          ADM  Graduação),\n",
       " ('PD',\n",
       "          Nome  Idade     Cidade  Registro Departamento   Formação\n",
       "  1    Beatriz     36    Atibaia     45828           PD   Mestrado\n",
       "  7   Fabrício     47    Atibaia     24894           PD  Graduação\n",
       "  8    Gabriel     23  Guarulhos     32948           PD    Técnico\n",
       "  10      Luíz     32    Atibaia     22884           PD  Graduação\n",
       "  12     Nadia     36     Santos     65938           PD  Graduação\n",
       "  15   Ricardo     38     Santos     45392           PD   Mestrado),\n",
       " ('RH',\n",
       "          Nome  Idade     Cidade  Registro Departamento   Formação\n",
       "  0   Anderson     24     Santos     32123           RH  Graduação\n",
       "  2      Bruno     45  Guarulhos     34985           RH  Graduação\n",
       "  5    Douglas     20  Guarulhos     99348           RH    Técnico\n",
       "  13   Oswaldo     68  Guarulhos     12956           RH   Mestrado)]"
      ]
     },
     "execution_count": 23,
     "metadata": {},
     "output_type": "execute_result"
    }
   ],
   "source": [
    "list(groupByDepto)"
   ]
  },
  {
   "cell_type": "code",
   "execution_count": 24,
   "id": "99f2be3e-d15b-4f95-ad42-9869935f9ed9",
   "metadata": {
    "collapsed": true,
    "jupyter": {
     "outputs_hidden": true
    }
   },
   "outputs": [
    {
     "data": {
      "text/plain": [
       "[(('Atibaia', 'ADM'),\n",
       "          Nome  Idade   Cidade  Registro Departamento Formação\n",
       "  3  Cristiano     56  Atibaia     13457          ADM  Técnico),\n",
       " (('Atibaia', 'PD'),\n",
       "          Nome  Idade   Cidade  Registro Departamento   Formação\n",
       "  1    Beatriz     36  Atibaia     45828           PD   Mestrado\n",
       "  7   Fabrício     47  Atibaia     24894           PD  Graduação\n",
       "  10      Luíz     32  Atibaia     22884           PD  Graduação),\n",
       " (('Guarulhos', 'ADM'),\n",
       "          Nome  Idade     Cidade  Registro Departamento   Formação\n",
       "  6      Elena     38  Guarulhos     45019          ADM  Graduação\n",
       "  9    Janaína     56  Guarulhos     13480          ADM  Graduação\n",
       "  11    Marcos     22  Guarulhos     56821          ADM  Graduação\n",
       "  14  Patrícia     22  Guarulhos     75439          ADM  Graduação),\n",
       " (('Guarulhos', 'PD'),\n",
       "        Nome  Idade     Cidade  Registro Departamento Formação\n",
       "  8  Gabriel     23  Guarulhos     32948           PD  Técnico),\n",
       " (('Guarulhos', 'RH'),\n",
       "         Nome  Idade     Cidade  Registro Departamento   Formação\n",
       "  2     Bruno     45  Guarulhos     34985           RH  Graduação\n",
       "  5   Douglas     20  Guarulhos     99348           RH    Técnico\n",
       "  13  Oswaldo     68  Guarulhos     12956           RH   Mestrado),\n",
       " (('Santos', 'ADM'),\n",
       "       Nome  Idade  Cidade  Registro Departamento   Formação\n",
       "  4  Daniel     29  Santos     98439          ADM  Graduação),\n",
       " (('Santos', 'PD'),\n",
       "         Nome  Idade  Cidade  Registro Departamento   Formação\n",
       "  12    Nadia     36  Santos     65938           PD  Graduação\n",
       "  15  Ricardo     38  Santos     45392           PD   Mestrado),\n",
       " (('Santos', 'RH'),\n",
       "         Nome  Idade  Cidade  Registro Departamento   Formação\n",
       "  0  Anderson     24  Santos     32123           RH  Graduação)]"
      ]
     },
     "execution_count": 24,
     "metadata": {},
     "output_type": "execute_result"
    }
   ],
   "source": [
    "list(groupByCidadeEDepto)"
   ]
  },
  {
   "cell_type": "code",
   "execution_count": 25,
   "id": "96f1f35a-1527-4094-9466-b087db9c4405",
   "metadata": {
    "collapsed": true,
    "jupyter": {
     "outputs_hidden": true
    }
   },
   "outputs": [
    {
     "data": {
      "text/plain": [
       "[(('ADM', 'Graduação'),\n",
       "          Nome  Idade     Cidade  Registro Departamento   Formação\n",
       "  4     Daniel     29     Santos     98439          ADM  Graduação\n",
       "  6      Elena     38  Guarulhos     45019          ADM  Graduação\n",
       "  9    Janaína     56  Guarulhos     13480          ADM  Graduação\n",
       "  11    Marcos     22  Guarulhos     56821          ADM  Graduação\n",
       "  14  Patrícia     22  Guarulhos     75439          ADM  Graduação),\n",
       " (('ADM', 'Técnico'),\n",
       "          Nome  Idade   Cidade  Registro Departamento Formação\n",
       "  3  Cristiano     56  Atibaia     13457          ADM  Técnico),\n",
       " (('PD', 'Graduação'),\n",
       "          Nome  Idade   Cidade  Registro Departamento   Formação\n",
       "  7   Fabrício     47  Atibaia     24894           PD  Graduação\n",
       "  10      Luíz     32  Atibaia     22884           PD  Graduação\n",
       "  12     Nadia     36   Santos     65938           PD  Graduação),\n",
       " (('PD', 'Mestrado'),\n",
       "         Nome  Idade   Cidade  Registro Departamento  Formação\n",
       "  1   Beatriz     36  Atibaia     45828           PD  Mestrado\n",
       "  15  Ricardo     38   Santos     45392           PD  Mestrado),\n",
       " (('PD', 'Técnico'),\n",
       "        Nome  Idade     Cidade  Registro Departamento Formação\n",
       "  8  Gabriel     23  Guarulhos     32948           PD  Técnico),\n",
       " (('RH', 'Graduação'),\n",
       "         Nome  Idade     Cidade  Registro Departamento   Formação\n",
       "  0  Anderson     24     Santos     32123           RH  Graduação\n",
       "  2     Bruno     45  Guarulhos     34985           RH  Graduação),\n",
       " (('RH', 'Mestrado'),\n",
       "         Nome  Idade     Cidade  Registro Departamento  Formação\n",
       "  13  Oswaldo     68  Guarulhos     12956           RH  Mestrado),\n",
       " (('RH', 'Técnico'),\n",
       "        Nome  Idade     Cidade  Registro Departamento Formação\n",
       "  5  Douglas     20  Guarulhos     99348           RH  Técnico)]"
      ]
     },
     "execution_count": 25,
     "metadata": {},
     "output_type": "execute_result"
    }
   ],
   "source": [
    "list(groupByDeptoEFormacao)"
   ]
  },
  {
   "cell_type": "code",
   "execution_count": 27,
   "id": "bcaf65fb-966d-4c8b-a885-537ed4b6f819",
   "metadata": {},
   "outputs": [],
   "source": [
    "lbd = lambda x: (x-x.mean())"
   ]
  },
  {
   "cell_type": "code",
   "execution_count": 30,
   "id": "a07e127a-e050-4670-957d-2ed87fe30187",
   "metadata": {},
   "outputs": [
    {
     "data": {
      "text/plain": [
       "0     -7.75\n",
       "1     -6.75\n",
       "2      8.25\n",
       "3     13.25\n",
       "4     -2.75\n",
       "5    -16.75\n",
       "6      1.25\n",
       "7      4.25\n",
       "8    -13.75\n",
       "9     19.25\n",
       "10   -10.75\n",
       "11   -14.75\n",
       "12     4.25\n",
       "13    31.25\n",
       "14   -14.75\n",
       "15     6.25\n",
       "Name: Idade, dtype: float64"
      ]
     },
     "execution_count": 30,
     "metadata": {},
     "output_type": "execute_result"
    }
   ],
   "source": [
    "groupByCidade['Idade'].transform(lbd)"
   ]
  },
  {
   "cell_type": "code",
   "execution_count": 31,
   "id": "5f7f83f1-cbac-4178-9ef2-9515be5fc09e",
   "metadata": {},
   "outputs": [
    {
     "data": {
      "text/plain": [
       "0    -11.100000\n",
       "1    -11.333333\n",
       "2      9.900000\n",
       "3     23.000000\n",
       "4     -6.100000\n",
       "5    -13.000000\n",
       "6      2.900000\n",
       "7     11.900000\n",
       "8    -10.000000\n",
       "9     20.900000\n",
       "10    -3.100000\n",
       "11   -13.100000\n",
       "12     0.900000\n",
       "13    20.666667\n",
       "14   -13.100000\n",
       "15    -9.333333\n",
       "Name: Idade, dtype: float64"
      ]
     },
     "execution_count": 31,
     "metadata": {},
     "output_type": "execute_result"
    }
   ],
   "source": [
    "groupByFormacao['Idade'].transform(lbd)"
   ]
  },
  {
   "cell_type": "code",
   "execution_count": 32,
   "id": "daad0235-ab39-4f72-8fb6-8b82169321ce",
   "metadata": {},
   "outputs": [
    {
     "data": {
      "text/plain": [
       "0    -15.250000\n",
       "1      0.666667\n",
       "2      5.750000\n",
       "3     18.833333\n",
       "4     -8.166667\n",
       "5    -19.250000\n",
       "6      0.833333\n",
       "7     11.666667\n",
       "8    -12.333333\n",
       "9     18.833333\n",
       "10    -3.333333\n",
       "11   -15.166667\n",
       "12     0.666667\n",
       "13    28.750000\n",
       "14   -15.166667\n",
       "15     2.666667\n",
       "Name: Idade, dtype: float64"
      ]
     },
     "execution_count": 32,
     "metadata": {},
     "output_type": "execute_result"
    }
   ],
   "source": [
    "groupByDepto['Idade'].transform(lbd)"
   ]
  },
  {
   "cell_type": "code",
   "execution_count": 33,
   "id": "8d8d9828-c1c6-42f0-b658-668e47d2854f",
   "metadata": {},
   "outputs": [
    {
     "data": {
      "text/plain": [
       "0      0.000000\n",
       "1     -2.333333\n",
       "2      0.666667\n",
       "3      0.000000\n",
       "4      0.000000\n",
       "5    -24.333333\n",
       "6      3.500000\n",
       "7      8.666667\n",
       "8      0.000000\n",
       "9     21.500000\n",
       "10    -6.333333\n",
       "11   -12.500000\n",
       "12    -1.000000\n",
       "13    23.666667\n",
       "14   -12.500000\n",
       "15     1.000000\n",
       "Name: Idade, dtype: float64"
      ]
     },
     "execution_count": 33,
     "metadata": {},
     "output_type": "execute_result"
    }
   ],
   "source": [
    "groupByCidadeEDepto['Idade'].transform(lbd)"
   ]
  },
  {
   "cell_type": "code",
   "execution_count": 35,
   "id": "e6f0d000-5bb9-4d2a-8be7-7097f4742cd7",
   "metadata": {},
   "outputs": [
    {
     "data": {
      "text/plain": [
       "0    -10.500000\n",
       "1     -1.000000\n",
       "2     10.500000\n",
       "3      0.000000\n",
       "4     -4.400000\n",
       "5      0.000000\n",
       "6      4.600000\n",
       "7      8.666667\n",
       "8      0.000000\n",
       "9     22.600000\n",
       "10    -6.333333\n",
       "11   -11.400000\n",
       "12    -2.333333\n",
       "13     0.000000\n",
       "14   -11.400000\n",
       "15     1.000000\n",
       "Name: Idade, dtype: float64"
      ]
     },
     "execution_count": 35,
     "metadata": {},
     "output_type": "execute_result"
    }
   ],
   "source": [
    "groupByDeptoEFormacao['Idade'].transform(lbd)"
   ]
  },
  {
   "cell_type": "code",
   "execution_count": null,
   "id": "18f2d65f-7271-44ca-be29-9fd11c9278a0",
   "metadata": {},
   "outputs": [],
   "source": []
  },
  {
   "cell_type": "code",
   "execution_count": null,
   "id": "4c0d9bdf-b8d4-4a46-9cf1-5d46b9b3c01f",
   "metadata": {},
   "outputs": [],
   "source": []
  },
  {
   "cell_type": "code",
   "execution_count": null,
   "id": "aba42035-3c56-44d2-bae2-b1883435a7bf",
   "metadata": {},
   "outputs": [],
   "source": []
  }
 ],
 "metadata": {
  "kernelspec": {
   "display_name": "Python 3 (ipykernel)",
   "language": "python",
   "name": "python3"
  },
  "language_info": {
   "codemirror_mode": {
    "name": "ipython",
    "version": 3
   },
   "file_extension": ".py",
   "mimetype": "text/x-python",
   "name": "python",
   "nbconvert_exporter": "python",
   "pygments_lexer": "ipython3",
   "version": "3.11.2"
  }
 },
 "nbformat": 4,
 "nbformat_minor": 5
}
