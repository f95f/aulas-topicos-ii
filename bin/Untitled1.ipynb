{
 "cells": [
  {
   "cell_type": "code",
   "execution_count": null,
   "id": "5e42e204-2e8b-4e0f-a0b5-bf6b4567599f",
   "metadata": {},
   "outputs": [],
   "source": []
  }
 ],
 "metadata": {
  "kernelspec": {
   "display_name": "",
   "name": ""
  },
  "language_info": {
   "name": ""
  }
 },
 "nbformat": 4,
 "nbformat_minor": 5
}
